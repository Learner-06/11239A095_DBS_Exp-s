{
  "nbformat": 4,
  "nbformat_minor": 0,
  "metadata": {
    "colab": {
      "provenance": [],
      "authorship_tag": "ABX9TyP745/nlYNml87kQrYsZynL",
      "include_colab_link": true
    },
    "kernelspec": {
      "name": "python3",
      "display_name": "Python 3"
    },
    "language_info": {
      "name": "python"
    }
  },
  "cells": [
    {
      "cell_type": "markdown",
      "metadata": {
        "id": "view-in-github",
        "colab_type": "text"
      },
      "source": [
        "<a href=\"https://colab.research.google.com/github/Learner-06/11239A095_DBS_Exp-s/blob/main/VIGENERE_CIPHER.ipynb\" target=\"_parent\"><img src=\"https://colab.research.google.com/assets/colab-badge.svg\" alt=\"Open In Colab\"/></a>"
      ]
    },
    {
      "cell_type": "code",
      "execution_count": 2,
      "metadata": {
        "colab": {
          "base_uri": "https://localhost:8080/"
        },
        "id": "fqt0L1_xuleB",
        "outputId": "fc9bd3ed-b80c-4eef-ccb5-aa9af6ec61b4"
      },
      "outputs": [
        {
          "name": "stdout",
          "output_type": "stream",
          "text": [
            "\n",
            "1. Encrypt Text\n",
            "2. Decrypt Text\n",
            "3. Exit\n",
            "Enter your choice: 1\n",
            "Enter text: a msg\n",
            "Enter key: 2\n",
            "Cipher Text: L XDR\n",
            "\n",
            "1. Encrypt Text\n",
            "2. Decrypt Text\n",
            "3. Exit\n",
            "Enter your choice: 3\n"
          ]
        }
      ],
      "source": [
        "def vigenere(text, key, mode='encrypt'):\n",
        "    text, key = text.upper(), key.upper()\n",
        "    result = []\n",
        "    for i, ch in enumerate(text):\n",
        "        if not ch.isalpha():\n",
        "            result.append(ch)\n",
        "            continue\n",
        "        shift = ord(key[i % len(key)]) - 65\n",
        "        val = ord(ch) - 65\n",
        "        if mode == 'encrypt':\n",
        "            val = (val + shift) % 26\n",
        "        else:\n",
        "            val = (val - shift + 26) % 26\n",
        "        result.append(chr(val + 65))\n",
        "    return ''.join(result)\n",
        "\n",
        "def main():\n",
        "    while True:\n",
        "        print(\"\\n1. Encrypt Text\\n2. Decrypt Text\\n3. Exit\")\n",
        "        ch = input(\"Enter your choice: \")\n",
        "        if ch == '3':\n",
        "            break\n",
        "        text = input(\"Enter text: \")\n",
        "        key = input(\"Enter key: \")\n",
        "        if ch == '1':\n",
        "            print(\"Cipher Text:\", vigenere(text, key, 'encrypt'))\n",
        "        elif ch == '2':\n",
        "            print(\"Plain Text:\", vigenere(text, key, 'decrypt'))\n",
        "        else:\n",
        "            print(\"Invalid choice.\")\n",
        "\n",
        "if __name__ == \"__main__\":\n",
        "    main()\n"
      ]
    }
  ]
}