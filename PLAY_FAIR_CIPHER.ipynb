{
  "nbformat": 4,
  "nbformat_minor": 0,
  "metadata": {
    "colab": {
      "provenance": [],
      "authorship_tag": "ABX9TyP8I8f14+oHAifaclODyKuy",
      "include_colab_link": true
    },
    "kernelspec": {
      "name": "python3",
      "display_name": "Python 3"
    },
    "language_info": {
      "name": "python"
    }
  },
  "cells": [
    {
      "cell_type": "markdown",
      "metadata": {
        "id": "view-in-github",
        "colab_type": "text"
      },
      "source": [
        "<a href=\"https://colab.research.google.com/github/Learner-06/11239A095_DBS_Exp-s/blob/main/PLAY_FAIR_CIPHER.ipynb\" target=\"_parent\"><img src=\"https://colab.research.google.com/assets/colab-badge.svg\" alt=\"Open In Colab\"/></a>"
      ]
    },
    {
      "cell_type": "code",
      "execution_count": 2,
      "metadata": {
        "colab": {
          "base_uri": "https://localhost:8080/"
        },
        "id": "jt-Qi6Dsq7Dh",
        "outputId": "ea3e96eb-527a-481a-e8f4-86a73384c2e3"
      },
      "outputs": [
        {
          "output_type": "stream",
          "name": "stdout",
          "text": [
            "Enter key: ij\n",
            "Enter the plain text: hi\n",
            "\n",
            "Key Matrix:\n",
            "I A B C D\n",
            "E F G H K\n",
            "L M N O P\n",
            "Q R S T U\n",
            "V W X Y Z\n",
            "\n",
            "Entered text: hi\n",
            "Cipher Text: EC"
          ]
        }
      ],
      "source": [
        "import string\n",
        "\n",
        "MX = 5\n",
        "\n",
        "def create_key_matrix(key):\n",
        "    key = key.upper().replace('J', 'I')\n",
        "    seen, result = set(), []\n",
        "    for c in key + string.ascii_uppercase:\n",
        "        if c not in seen and c in string.ascii_uppercase and c != 'J':\n",
        "            seen.add(c)\n",
        "            result.append(c)\n",
        "    return [result[i:i+MX] for i in range(0, 25, MX)]\n",
        "\n",
        "def format_plaintext(text):\n",
        "    text = text.upper().replace('J', 'I').replace(' ', '')\n",
        "    pairs, i = [], 0\n",
        "    while i < len(text):\n",
        "        a = text[i]\n",
        "        b = text[i+1] if i+1 < len(text) else 'X'\n",
        "        if a == b:\n",
        "            pairs.append(a + 'X')\n",
        "            i += 1\n",
        "        else:\n",
        "            pairs.append(a + b)\n",
        "            i += 2\n",
        "    return pairs\n",
        "\n",
        "def find_pos(ch, key):\n",
        "    for i in range(MX):\n",
        "        if ch in key[i]:\n",
        "            return i, key[i].index(ch)\n",
        "\n",
        "def playfair(a, b, key):\n",
        "    r1, c1 = find_pos(a, key)\n",
        "    r2, c2 = find_pos(b, key)\n",
        "    if r1 == r2:  # same row\n",
        "        return key[r1][(c1+1)%MX] + key[r2][(c2+1)%MX]\n",
        "    elif c1 == c2:  # same column\n",
        "        return key[(r1+1)%MX][c1] + key[(r2+1)%MX][c2]\n",
        "    else:  # rectangle\n",
        "        return key[r1][c2] + key[r2][c1]\n",
        "\n",
        "def main():\n",
        "    key = input(\"Enter key: \")\n",
        "    text = input(\"Enter the plain text: \")\n",
        "\n",
        "    key_matrix = create_key_matrix(key)\n",
        "    print(\"\\nKey Matrix:\")\n",
        "    for row in key_matrix:\n",
        "        print(\" \".join(row))\n",
        "\n",
        "    print(\"\\nEntered text:\", text)\n",
        "    print(\"Cipher Text:\", end=' ')\n",
        "\n",
        "    pairs = format_plaintext(text)\n",
        "    with open(\"cipher.txt\", \"w\") as f:\n",
        "        for p in pairs:\n",
        "            cipher = playfair(p[0], p[1], key_matrix)\n",
        "            print(cipher, end='')\n",
        "            f.write(cipher)\n",
        "\n",
        "if __name__ == \"__main__\":\n",
        "    main()\n"
      ]
    }
  ]
}