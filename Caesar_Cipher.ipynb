{
  "nbformat": 4,
  "nbformat_minor": 0,
  "metadata": {
    "colab": {
      "provenance": [],
      "authorship_tag": "ABX9TyOrIh36dR7mJ9j9Gs6KKQlb",
      "include_colab_link": true
    },
    "kernelspec": {
      "name": "python3",
      "display_name": "Python 3"
    },
    "language_info": {
      "name": "python"
    }
  },
  "cells": [
    {
      "cell_type": "markdown",
      "metadata": {
        "id": "view-in-github",
        "colab_type": "text"
      },
      "source": [
        "<a href=\"https://colab.research.google.com/github/Learner-06/11239A095_DBS_Exp-s/blob/main/Caesar_Cipher.ipynb\" target=\"_parent\"><img src=\"https://colab.research.google.com/assets/colab-badge.svg\" alt=\"Open In Colab\"/></a>"
      ]
    },
    {
      "cell_type": "code",
      "execution_count": 1,
      "metadata": {
        "colab": {
          "base_uri": "https://localhost:8080/"
        },
        "id": "W7u6w563qVqA",
        "outputId": "a777a4f8-91cf-4404-a05a-40a21495a357"
      },
      "outputs": [
        {
          "output_type": "stream",
          "name": "stdout",
          "text": [
            "=== Caesar Cipher Program ===\n",
            "Enter your message: hey beautiful\n",
            "Enter shift value (1-25): 2\n",
            "\n",
            "Encrypted message: jga dgcwvkhwn\n",
            "Decrypted message: hey beautiful\n"
          ]
        }
      ],
      "source": [
        "# Caesar Cipher - Encryption and Decryption\n",
        "\n",
        "def caesar_cipher(text, shift, mode):\n",
        "    result = \"\"\n",
        "\n",
        "    for char in text:\n",
        "        if char.isalpha():  # Only shift letters\n",
        "            shift_amount = shift if mode == \"encrypt\" else -shift\n",
        "            start = ord('A') if char.isupper() else ord('a')\n",
        "            # Shift the character within A-Z or a-z range\n",
        "            result += chr((ord(char) - start + shift_amount) % 26 + start)\n",
        "        else:\n",
        "            # Non-alphabet characters remain unchanged\n",
        "            result += char\n",
        "\n",
        "    return result\n",
        "\n",
        "# Main program\n",
        "print(\"=== Caesar Cipher Program ===\")\n",
        "message = input(\"Enter your message: \")\n",
        "shift = int(input(\"Enter shift value (1-25): \"))\n",
        "\n",
        "# Encrypt the message\n",
        "encrypted_text = caesar_cipher(message, shift, \"encrypt\")\n",
        "print(\"\\nEncrypted message:\", encrypted_text)\n",
        "\n",
        "# Decrypt the message\n",
        "decrypted_text = caesar_cipher(encrypted_text, shift, \"decrypt\")\n",
        "print(\"Decrypted message:\", decrypted_text)"
      ]
    }
  ]
}