{
  "nbformat": 4,
  "nbformat_minor": 0,
  "metadata": {
    "colab": {
      "provenance": [],
      "authorship_tag": "ABX9TyMiOhedLAeVY00zTsEPyRFA",
      "include_colab_link": true
    },
    "kernelspec": {
      "name": "python3",
      "display_name": "Python 3"
    },
    "language_info": {
      "name": "python"
    }
  },
  "cells": [
    {
      "cell_type": "markdown",
      "metadata": {
        "id": "view-in-github",
        "colab_type": "text"
      },
      "source": [
        "<a href=\"https://colab.research.google.com/github/Learner-06/11239A095_DBS_Exp-s/blob/main/Rail_Fence.ipynb\" target=\"_parent\"><img src=\"https://colab.research.google.com/assets/colab-badge.svg\" alt=\"Open In Colab\"/></a>"
      ]
    },
    {
      "cell_type": "code",
      "execution_count": 1,
      "metadata": {
        "colab": {
          "base_uri": "https://localhost:8080/"
        },
        "id": "wjKO0iWrwQYC",
        "outputId": "0a7fb40c-fda7-46d6-977f-1a8571c47387"
      },
      "outputs": [
        {
          "name": "stdout",
          "output_type": "stream",
          "text": [
            "\n",
            "\t\tRAIL FENCE TECHNIQUE\n",
            "\n",
            "Enter the input string: hello \n",
            "\n",
            "Cipher text after applying rail fence:\n",
            "hloel \n",
            "\n",
            "Text after decryption:\n",
            "hello \n",
            "\n",
            "Press Enter to continue...\n"
          ]
        }
      ],
      "source": [
        "def main():\n",
        "    print(\"\\n\\t\\tRAIL FENCE TECHNIQUE\")\n",
        "    text = input(\"\\nEnter the input string: \")\n",
        "    n = len(text)\n",
        "\n",
        "    # Encrypt\n",
        "    cipher = text[::2] + text[1::2]\n",
        "    print(\"\\nCipher text after applying rail fence:\")\n",
        "    print(cipher)\n",
        "\n",
        "    # Decrypt\n",
        "    half = (n + 1) // 2\n",
        "    first, second = cipher[:half], cipher[half:]\n",
        "    plain = ''.join(a + b for a, b in zip(first, second))\n",
        "    if len(first) > len(second):\n",
        "        plain += first[-1]\n",
        "    print(\"\\nText after decryption:\")\n",
        "    print(plain)\n",
        "\n",
        "    input(\"\\nPress Enter to continue...\")\n",
        "\n",
        "if __name__ == \"__main__\":\n",
        "    main()\n"
      ]
    }
  ]
}