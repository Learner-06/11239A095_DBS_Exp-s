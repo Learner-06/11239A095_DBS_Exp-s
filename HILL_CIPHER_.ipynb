{
  "nbformat": 4,
  "nbformat_minor": 0,
  "metadata": {
    "colab": {
      "provenance": [],
      "authorship_tag": "ABX9TyPR0t6PhqqiSazb0rhLSKqm",
      "include_colab_link": true
    },
    "kernelspec": {
      "name": "python3",
      "display_name": "Python 3"
    },
    "language_info": {
      "name": "python"
    }
  },
  "cells": [
    {
      "cell_type": "markdown",
      "metadata": {
        "id": "view-in-github",
        "colab_type": "text"
      },
      "source": [
        "<a href=\"https://colab.research.google.com/github/Learner-06/11239A095_DBS_Exp-s/blob/main/HILL_CIPHER_.ipynb\" target=\"_parent\"><img src=\"https://colab.research.google.com/assets/colab-badge.svg\" alt=\"Open In Colab\"/></a>"
      ]
    },
    {
      "cell_type": "code",
      "execution_count": 1,
      "metadata": {
        "colab": {
          "base_uri": "https://localhost:8080/"
        },
        "id": "wSMm8nVruFYg",
        "outputId": "f17481d3-de13-4131-83fc-a269bcca1764"
      },
      "outputs": [
        {
          "output_type": "stream",
          "name": "stdout",
          "text": [
            "Enter plain text (3 letters, A–Z): iyk\n",
            "Numeric form: 8 24 10\n",
            "Encrypted Cipher Text: KQQ\n",
            "Decrypted Cipher Text: IYK\n"
          ]
        }
      ],
      "source": [
        "import numpy as np\n",
        "\n",
        "def hill_cipher():\n",
        "    # Encryption and decryption key matrices\n",
        "    A = np.array([[6, 24, 1],\n",
        "                  [13, 16, 10],\n",
        "                  [20, 17, 15]], dtype=np.uint32)\n",
        "    B = np.array([[8, 5, 10],\n",
        "                  [21, 8, 21],\n",
        "                  [21, 12, 8]], dtype=np.uint32)\n",
        "\n",
        "    msg = input(\"Enter plain text (3 letters, A–Z): \").upper()\n",
        "\n",
        "    # Convert letters to numbers (A=0, B=1, ...)\n",
        "    c = np.array([ord(ch) - 65 for ch in msg[:3]])\n",
        "\n",
        "    print(\"Numeric form:\", *c)\n",
        "\n",
        "    # Encrypt\n",
        "    d = np.dot(A, c) % 26\n",
        "    cipher = ''.join(chr(x + 65) for x in d)\n",
        "    print(\"Encrypted Cipher Text:\", cipher)\n",
        "\n",
        "    # Decrypt\n",
        "    dec = np.dot(B, d) % 26\n",
        "    plain = ''.join(chr(x + 65) for x in dec)\n",
        "    print(\"Decrypted Cipher Text:\", plain)\n",
        "\n",
        "if __name__ == \"__main__\":\n",
        "    hill_cipher()\n"
      ]
    }
  ]
}